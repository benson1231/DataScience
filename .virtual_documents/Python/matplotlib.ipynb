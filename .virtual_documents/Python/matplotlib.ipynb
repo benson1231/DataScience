


import matplotlib.pyplot as plt





plt.plot([2,3,4], 
         [[4,2],[3,6],[5,7]],
        label=["group1","group2"])
plt.legend()
plt.xlabel("X")
plt.ylabel("Y")
plt.show()





x=[20,30,40]
total=sum(x)
labels=labels = [f"{val*100/total:.2f}%" for val in x]
print(labels)

plt.pie(
    x,
    labels=labels,
    labeldistance=0.5
)
plt.title("pie chart")
plt.legend()
plt.show()





plt.scatter(
    [2,3,4],[5,7,8],
    c="green",s=50,
    label="group1"
)
plt.scatter([1,4,5],[5,7,8],label="group2")
plt.legend()
plt.show()





# x軸為連續性
plt.bar([1,2,3],[4,5,6])
plt.show()


# x軸為離散性
plt.bar(
    ["A","B","C"],
    [4,5,6],
    width=0.5,
    color="orange"
)

plt.xlabel("x")
plt.ylabel("y")
plt.show()





plt.bar(
    "10/15",5,
    bottom=80,width=0.4,color="green"
)
plt.bar(
    "10/15",10,
    bottom=78,width=0.1,color="green"
)
plt.show()





import matplotlib.pyplot as plt
from mpl_toolkits.mplot3d import Axes3D  # 導入 3D 模組

# 建立 3D 繪圖對象
fig = plt.figure()
ax = fig.add_subplot(111, projection='3d')

# 設置軸標籤
ax.set_xlabel('X Label')
ax.set_ylabel('Y Label')
ax.set_zlabel('Z Label')

plt.show()






