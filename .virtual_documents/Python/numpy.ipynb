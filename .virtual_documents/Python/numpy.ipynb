


# import numpy
import numpy as np
# 建立ndarray物件
ndarr = np.array([3, 4, -5])

print(ndarr)
print(ndarr.size)
print(ndarr.dtype)





np.array([3,4,5])
np.empty(3)
np.zeros(3)
np.ones(3)
np.arange(10)





np.array(
    [
        [1,2],
        [3,4],
        [5,6]
    ]
        )





array_3d = np.array([[[1, 2, 3, 4], 
                      [5, 6, 7, 8], 
                      [9, 10, 11, 12]],
                     
                     [[13, 14, 15, 16], 
                      [17, 18, 19, 20], 
                      [21, 22, 23, 24]]])
print(array_3d)





# 創建一個四維陣列，形狀為 1x1x1x2
array_4d = np.array([[[[1, 2]]]])





data1 = np.array([3,4])
data2 = np.array([5,8])

data1 + data2
data1 - data2
data1 * data2
data1 / data2
data1 > data2
data1 == data2
data1 <= data2





data3 = np.array([
    [2,1]
])
data4 = np.array([
    [4,7,8],[3,5,7]
])

data3.dot(data4)  # 內積
data3@data4       # 內積
np.outer(data3,data4)  # 外積





data4.sum()
data4.sum(axis=0)  # 加總column
data4.sum(axis=1)  # 加總row
data4.min()
data4.cumsum()  # 逐值累加
data4.mean()
data4.std()    # 標準差





data4.shape


# 轉置
data4.T.shape


# 扁平化
data4.ravel()


# 重塑資料形狀
data4.reshape(3,2)
data4.reshape(2,3)

new_data = np.ones(18).reshape(2,3,3)
print(new_data)





data1[1]
data4[1,2]





# 多維陣列[開始：結束] (不包含結束)
data1[0:1]
data4[0:2, 0:1]


data4[0,...]
data4[...,0:1]





arr1 = np.zeros(4).reshape(2,2)
arr2 = np.ones(4).reshape(2,2)

# 合併第一個維度
np.vstack((arr1,arr2))


# 合併第二個維度
np.hstack((arr1,arr2))





arr3=np.array([
    [1,2,3,4],
    [5,6,7,8]
])

np.vsplit(arr3, 2)


np.hsplit(arr3, 2)





j = np.random.rand(10)
j


i = np.random.rand(10).reshape(2,5)
print(i)
print(i.shape)


q = np.random.randint(1,20,100)
q
