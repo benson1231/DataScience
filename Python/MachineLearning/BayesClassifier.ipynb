{
 "cells": [
  {
   "cell_type": "code",
   "execution_count": 4,
   "id": "48e45d15-7842-494f-860d-ab177eb1f2a9",
   "metadata": {
    "tags": []
   },
   "outputs": [
    {
     "name": "stdout",
     "output_type": "stream",
     "text": [
      "The review is negative\n"
     ]
    }
   ],
   "source": [
    "# 簡單的正向和負向詞彙計數\n",
    "pos_counter = {\"good\": 10, \"great\": 15, \"excellent\": 7, \"love\": 8, \"amazing\": 6}\n",
    "neg_counter = {\"terrible\": 12, \"bad\": 14, \"awful\": 9, \"hate\": 10, \"horrible\": 8}\n",
    "\n",
    "# 範例評論\n",
    "review = \"This crib was terrible\"\n",
    "\n",
    "# 預設正向和負向的比例\n",
    "percent_pos = 0.5\n",
    "percent_neg = 0.5\n",
    "\n",
    "# 總正向和負向詞彙的數量\n",
    "total_pos = sum(pos_counter.values())\n",
    "total_neg = sum(neg_counter.values())\n",
    "\n",
    "# 初始化機率\n",
    "pos_probability = 1\n",
    "neg_probability = 1\n",
    "\n",
    "# 將評論分詞\n",
    "review_words = review.lower().split()\n",
    "\n",
    "# Naive Bayes 核心算法\n",
    "for word in review_words:\n",
    "    # 從正負向計數中提取單詞的出現次數（若未出現則預設為0）\n",
    "    word_in_pos = pos_counter.get(word, 0)\n",
    "    word_in_neg = neg_counter.get(word, 0)\n",
    "\n",
    "    # 計算條件機率 (加入平滑處理，避免出現0概率)\n",
    "    pos_probability *= (word_in_pos + 1) / (total_pos + len(pos_counter))\n",
    "    neg_probability *= (word_in_neg + 1) / (total_neg + len(neg_counter))\n",
    "\n",
    "# 最終機率\n",
    "final_pos = pos_probability * percent_pos\n",
    "final_neg = neg_probability * percent_neg\n",
    "\n",
    "# 輸出分類結果\n",
    "if final_pos > final_neg:\n",
    "    print(\"The review is positive\")\n",
    "else:\n",
    "    print(\"The review is negative\")\n"
   ]
  },
  {
   "cell_type": "markdown",
   "id": "b76603f0-f25e-4a82-bc1f-a856b257287b",
   "metadata": {},
   "source": [
    "# Formatting the Data for scikit-learn"
   ]
  },
  {
   "cell_type": "code",
   "execution_count": 8,
   "id": "5fe081a5-cc97-4243-b665-d669a92ac9f5",
   "metadata": {
    "tags": []
   },
   "outputs": [
    {
     "name": "stdout",
     "output_type": "stream",
     "text": [
      "{'this': 9, 'crib': 2, 'was': 10, 'terrible': 8, 'hate': 5, 'product': 7, 'worst': 11, 'experience': 4, 'ever': 3, 'amazing': 0, 'love': 6, 'best': 1}\n",
      "[[1 0 1 0 0 0 0 0 0 1 1 0]]\n"
     ]
    }
   ],
   "source": [
    "from sklearn.feature_extraction.text import CountVectorizer\n",
    "\n",
    "# 假設的正面和負面評論列表\n",
    "neg_list = [\"This crib was terrible\", \"I hate this product\", \"Worst experience ever\"]\n",
    "pos_list = [\"This crib was amazing\", \"I love this product\", \"Best experience ever\"]\n",
    "\n",
    "review = \"This crib was amazing\"\n",
    "\n",
    "counter = CountVectorizer()\n",
    "counter.fit(neg_list + pos_list)\n",
    "print(counter.vocabulary_)\n",
    "\n",
    "review_counts = counter.transform([review])\n",
    "print(review_counts.toarray())\n",
    "\n",
    "training_counts = counter.transform(neg_list + pos_list)"
   ]
  },
  {
   "cell_type": "code",
   "execution_count": 21,
   "id": "e1c9f15b-5017-4c1e-b146-471c0f4b7832",
   "metadata": {
    "tags": []
   },
   "outputs": [
    {
     "name": "stdout",
     "output_type": "stream",
     "text": [
      "預測結果: [1]\n",
      "預測機率: [[0.00297619 0.99702381]]\n"
     ]
    }
   ],
   "source": [
    "from sklearn.naive_bayes import MultinomialNB\n",
    "\n",
    "# 建立訓練資料\n",
    "neg_list = [\"This crib was terrible\", \"I hate this product\", \"Worst experience ever\"] * 334\n",
    "pos_list = [\"This crib was amazing\", \"I love this product\", \"Best experience ever\"] * 334\n",
    "\n",
    "# 建立詞彙表\n",
    "def build_vocab(texts):\n",
    "    vocab = {}\n",
    "    for sentence in texts:\n",
    "        for word in sentence.split():\n",
    "            if word not in vocab:\n",
    "                vocab[word] = len(vocab)\n",
    "    return vocab\n",
    "\n",
    "# 將文本轉換為詞頻向量\n",
    "def text_to_vector(text, vocab):\n",
    "    vector = [0] * len(vocab)\n",
    "    for word in text.split():\n",
    "        if word in vocab:\n",
    "            vector[vocab[word]] += 1\n",
    "    return vector\n",
    "\n",
    "# 建立詞彙表\n",
    "texts = neg_list + pos_list\n",
    "vocab = build_vocab(texts)\n",
    "\n",
    "# 將訓練資料轉換為詞頻矩陣\n",
    "training_counts = [text_to_vector(sentence, vocab) for sentence in texts]\n",
    "\n",
    "# 測試評論\n",
    "review = \"This crib was great amazing and wonderful\"\n",
    "review_vector = text_to_vector(review, vocab)\n",
    "\n",
    "# 訓練 Naive Bayes 模型\n",
    "classifier = MultinomialNB()\n",
    "training_labels = [0] * len(neg_list) + [1] * len(pos_list)  # 0: 負面, 1: 正面\n",
    "classifier.fit(training_counts, training_labels)\n",
    "\n",
    "# 預測測試評論\n",
    "print(\"預測結果:\", classifier.predict([review_vector]))\n",
    "print(\"預測機率:\", classifier.predict_proba([review_vector]))\n"
   ]
  },
  {
   "cell_type": "code",
   "execution_count": null,
   "id": "5df06a45-6efb-4d84-a80a-e3375633f668",
   "metadata": {},
   "outputs": [],
   "source": []
  },
  {
   "cell_type": "code",
   "execution_count": null,
   "id": "e1aed93a-6e4a-4e64-9c81-fb4b28ee352f",
   "metadata": {},
   "outputs": [],
   "source": []
  },
  {
   "cell_type": "code",
   "execution_count": null,
   "id": "9f47704c-6644-47aa-9cdf-b39ca595db1b",
   "metadata": {},
   "outputs": [],
   "source": []
  },
  {
   "cell_type": "code",
   "execution_count": null,
   "id": "555fe926-4ad8-43c3-8f00-f42deee69019",
   "metadata": {},
   "outputs": [],
   "source": []
  },
  {
   "cell_type": "code",
   "execution_count": null,
   "id": "8bc0cedd-8bf2-4638-8947-5dfe49f34b94",
   "metadata": {},
   "outputs": [],
   "source": []
  },
  {
   "cell_type": "code",
   "execution_count": null,
   "id": "8d1230ee-1a1a-4e24-a5aa-d3c1ca28201e",
   "metadata": {},
   "outputs": [],
   "source": []
  },
  {
   "cell_type": "code",
   "execution_count": null,
   "id": "a0edb8a8-78a2-4a1f-b048-379ae314e718",
   "metadata": {},
   "outputs": [],
   "source": []
  },
  {
   "cell_type": "code",
   "execution_count": null,
   "id": "ec4bf43e-a5f4-43ed-95ab-7fbe2fe4e751",
   "metadata": {},
   "outputs": [],
   "source": []
  }
 ],
 "metadata": {
  "kernelspec": {
   "display_name": "Python 3 (ipykernel)",
   "language": "python",
   "name": "python3"
  },
  "language_info": {
   "codemirror_mode": {
    "name": "ipython",
    "version": 3
   },
   "file_extension": ".py",
   "mimetype": "text/x-python",
   "name": "python",
   "nbconvert_exporter": "python",
   "pygments_lexer": "ipython3",
   "version": "3.11.5"
  }
 },
 "nbformat": 4,
 "nbformat_minor": 5
}
