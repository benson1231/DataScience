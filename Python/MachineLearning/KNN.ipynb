{
 "cells": [
  {
   "cell_type": "markdown",
   "id": "691a35cd-9a1c-4a39-8fb7-305f2237d492",
   "metadata": {},
   "source": [
    "# K-Nearest Neighbors(KNN)"
   ]
  },
  {
   "cell_type": "code",
   "execution_count": 1,
   "id": "18e9be6f-d7e4-4e5a-8f8d-5e9e46f0356e",
   "metadata": {
    "tags": []
   },
   "outputs": [],
   "source": [
    "training_set = {\n",
    "    \"Movie1\": [1.0, 2.0, 3.0],\n",
    "    \"Movie2\": [2.0, 3.0, 4.0],\n",
    "    \"Movie3\": [3.0, 4.0, 5.0],\n",
    "    \"Movie4\": [5.0, 5.0, 5.0]\n",
    "}\n",
    "training_labels = {\n",
    "    \"Movie1\": 1,\n",
    "    \"Movie2\": 0,\n",
    "    \"Movie3\": 1,\n",
    "    \"Movie4\": 0\n",
    "}\n",
    "\n",
    "validation_set = {\n",
    "    \"Movie5\": [1.5, 2.5, 3.5],\n",
    "    \"Movie6\": [4.5, 4.5, 4.5]\n",
    "}\n",
    "\n",
    "validation_labels = {\n",
    "    \"Movie5\": 1,\n",
    "    \"Movie6\": 0\n",
    "}\n"
   ]
  },
  {
   "cell_type": "code",
   "execution_count": 2,
   "id": "54525f7b-d23f-489c-ac46-dbf2dd3d8c9a",
   "metadata": {
    "tags": []
   },
   "outputs": [],
   "source": [
    "def distance(movie1, movie2):\n",
    "  squared_difference = 0\n",
    "  for i in range(len(movie1)):\n",
    "    squared_difference += (movie1[i] - movie2[i]) ** 2\n",
    "  final_distance = squared_difference ** 0.5\n",
    "  return final_distance\n",
    "\n",
    "def classify(unknown, dataset, labels, k):\n",
    "  distances = []\n",
    "  #Looping through all points in the dataset\n",
    "  for title in dataset:\n",
    "    movie = dataset[title]\n",
    "    distance_to_point = distance(movie, unknown)\n",
    "    #Adding the distance and point associated with that distance\n",
    "    distances.append([distance_to_point, title])\n",
    "  distances.sort()\n",
    "  #Taking only the k closest points\n",
    "  neighbors = distances[0:k]\n",
    "  num_good = 0\n",
    "  num_bad = 0\n",
    "  for neighbor in neighbors:\n",
    "    title = neighbor[1]\n",
    "    if labels[title] == 0:\n",
    "      num_bad += 1\n",
    "    elif labels[title] == 1:\n",
    "      num_good += 1\n",
    "  if num_good > num_bad:\n",
    "    return 1\n",
    "  else:\n",
    "    return 0\n",
    "\n",
    "\n",
    "def find_validation_accuracy(training_set,training_labels,validation_set,validation_labels,k):\n",
    "  num_correct = 0.0\n",
    "\n",
    "  for title in validation_set:\n",
    "    guess = classify(validation_set[title], training_set, training_labels, k)\n",
    "    if guess == validation_labels[title]:\n",
    "      num_correct += 1\n",
    "  \n",
    "  return num_correct/len(validation_set)"
   ]
  },
  {
   "cell_type": "code",
   "execution_count": 3,
   "id": "4bb636f7-d055-4291-9d38-14300c57a14b",
   "metadata": {},
   "outputs": [
    {
     "name": "stdout",
     "output_type": "stream",
     "text": [
      "1.0\n"
     ]
    }
   ],
   "source": [
    "print(find_validation_accuracy(training_set, training_labels, validation_set, validation_labels, 3))"
   ]
  },
  {
   "cell_type": "markdown",
   "id": "a73a8ffc-1194-4a25-b0ea-50c379e04e47",
   "metadata": {},
   "source": [
    "# KNN Using sklearn"
   ]
  },
  {
   "cell_type": "code",
   "execution_count": 4,
   "id": "ad1e3cf4-fb35-478b-bc45-d7aa2640c3be",
   "metadata": {
    "tags": []
   },
   "outputs": [],
   "source": [
    "training_points = [\n",
    "  [0.1, 0.2, 0.3],\n",
    "  [0.4, 0.5, 0.6],\n",
    "  [0.4, 0.5, 0.7],\n",
    "  [0.2, 0.6, 0.9],\n",
    "]\n",
    "\n",
    "training_labels = [0, 1, 1,0]\n",
    "\n",
    "unknown_points = [\n",
    "  [0.2, 0.1, 0.7],\n",
    "  [0.4, 0.7, 0.6],\n",
    "  [0.5, 0.8, 0.1]\n",
    "]"
   ]
  },
  {
   "cell_type": "code",
   "execution_count": 5,
   "id": "b11c9b82-ace7-48b0-8d39-e61eeb5ec510",
   "metadata": {
    "tags": []
   },
   "outputs": [
    {
     "name": "stdout",
     "output_type": "stream",
     "text": [
      "[1 0 0]\n"
     ]
    }
   ],
   "source": [
    "from sklearn.neighbors import KNeighborsClassifier\n",
    "\n",
    "classifier = KNeighborsClassifier(n_neighbors = 2)\n",
    "classifier.fit(training_points, training_labels)\n",
    "\n",
    "movie = [\n",
    "  [.45, .2, .5],\n",
    "  [.25, .8, .9],\n",
    "  [.1, .1, .9]\n",
    "]\n",
    "print(classifier.predict(movie))"
   ]
  },
  {
   "cell_type": "markdown",
   "id": "77a98264-fb07-48bd-a7da-c68e5608b032",
   "metadata": {},
   "source": [
    "# K-Nearest Neighbor Regressor"
   ]
  },
  {
   "cell_type": "code",
   "execution_count": 6,
   "id": "b5257862-eac5-4aee-af0c-c9fca1b11ee4",
   "metadata": {
    "tags": []
   },
   "outputs": [],
   "source": [
    "training_points = [\n",
    "  [0.5, 0.2, 0.1],\n",
    "  [0.9, 0.7, 0.3],\n",
    "  [0.4, 0.5, 0.7]\n",
    "]\n",
    "\n",
    "training_labels = [5.0, 6.8, 9.0]"
   ]
  },
  {
   "cell_type": "code",
   "execution_count": 7,
   "id": "13b4a580-bf71-4e29-8589-805c41108479",
   "metadata": {
    "tags": []
   },
   "outputs": [
    {
     "data": {
      "text/html": [
       "<style>#sk-container-id-1 {color: black;}#sk-container-id-1 pre{padding: 0;}#sk-container-id-1 div.sk-toggleable {background-color: white;}#sk-container-id-1 label.sk-toggleable__label {cursor: pointer;display: block;width: 100%;margin-bottom: 0;padding: 0.3em;box-sizing: border-box;text-align: center;}#sk-container-id-1 label.sk-toggleable__label-arrow:before {content: \"▸\";float: left;margin-right: 0.25em;color: #696969;}#sk-container-id-1 label.sk-toggleable__label-arrow:hover:before {color: black;}#sk-container-id-1 div.sk-estimator:hover label.sk-toggleable__label-arrow:before {color: black;}#sk-container-id-1 div.sk-toggleable__content {max-height: 0;max-width: 0;overflow: hidden;text-align: left;background-color: #f0f8ff;}#sk-container-id-1 div.sk-toggleable__content pre {margin: 0.2em;color: black;border-radius: 0.25em;background-color: #f0f8ff;}#sk-container-id-1 input.sk-toggleable__control:checked~div.sk-toggleable__content {max-height: 200px;max-width: 100%;overflow: auto;}#sk-container-id-1 input.sk-toggleable__control:checked~label.sk-toggleable__label-arrow:before {content: \"▾\";}#sk-container-id-1 div.sk-estimator input.sk-toggleable__control:checked~label.sk-toggleable__label {background-color: #d4ebff;}#sk-container-id-1 div.sk-label input.sk-toggleable__control:checked~label.sk-toggleable__label {background-color: #d4ebff;}#sk-container-id-1 input.sk-hidden--visually {border: 0;clip: rect(1px 1px 1px 1px);clip: rect(1px, 1px, 1px, 1px);height: 1px;margin: -1px;overflow: hidden;padding: 0;position: absolute;width: 1px;}#sk-container-id-1 div.sk-estimator {font-family: monospace;background-color: #f0f8ff;border: 1px dotted black;border-radius: 0.25em;box-sizing: border-box;margin-bottom: 0.5em;}#sk-container-id-1 div.sk-estimator:hover {background-color: #d4ebff;}#sk-container-id-1 div.sk-parallel-item::after {content: \"\";width: 100%;border-bottom: 1px solid gray;flex-grow: 1;}#sk-container-id-1 div.sk-label:hover label.sk-toggleable__label {background-color: #d4ebff;}#sk-container-id-1 div.sk-serial::before {content: \"\";position: absolute;border-left: 1px solid gray;box-sizing: border-box;top: 0;bottom: 0;left: 50%;z-index: 0;}#sk-container-id-1 div.sk-serial {display: flex;flex-direction: column;align-items: center;background-color: white;padding-right: 0.2em;padding-left: 0.2em;position: relative;}#sk-container-id-1 div.sk-item {position: relative;z-index: 1;}#sk-container-id-1 div.sk-parallel {display: flex;align-items: stretch;justify-content: center;background-color: white;position: relative;}#sk-container-id-1 div.sk-item::before, #sk-container-id-1 div.sk-parallel-item::before {content: \"\";position: absolute;border-left: 1px solid gray;box-sizing: border-box;top: 0;bottom: 0;left: 50%;z-index: -1;}#sk-container-id-1 div.sk-parallel-item {display: flex;flex-direction: column;z-index: 1;position: relative;background-color: white;}#sk-container-id-1 div.sk-parallel-item:first-child::after {align-self: flex-end;width: 50%;}#sk-container-id-1 div.sk-parallel-item:last-child::after {align-self: flex-start;width: 50%;}#sk-container-id-1 div.sk-parallel-item:only-child::after {width: 0;}#sk-container-id-1 div.sk-dashed-wrapped {border: 1px dashed gray;margin: 0 0.4em 0.5em 0.4em;box-sizing: border-box;padding-bottom: 0.4em;background-color: white;}#sk-container-id-1 div.sk-label label {font-family: monospace;font-weight: bold;display: inline-block;line-height: 1.2em;}#sk-container-id-1 div.sk-label-container {text-align: center;}#sk-container-id-1 div.sk-container {/* jupyter's `normalize.less` sets `[hidden] { display: none; }` but bootstrap.min.css set `[hidden] { display: none !important; }` so we also need the `!important` here to be able to override the default hidden behavior on the sphinx rendered scikit-learn.org. See: https://github.com/scikit-learn/scikit-learn/issues/21755 */display: inline-block !important;position: relative;}#sk-container-id-1 div.sk-text-repr-fallback {display: none;}</style><div id=\"sk-container-id-1\" class=\"sk-top-container\"><div class=\"sk-text-repr-fallback\"><pre>KNeighborsRegressor(n_neighbors=2, weights=&#x27;distance&#x27;)</pre><b>In a Jupyter environment, please rerun this cell to show the HTML representation or trust the notebook. <br />On GitHub, the HTML representation is unable to render, please try loading this page with nbviewer.org.</b></div><div class=\"sk-container\" hidden><div class=\"sk-item\"><div class=\"sk-estimator sk-toggleable\"><input class=\"sk-toggleable__control sk-hidden--visually\" id=\"sk-estimator-id-1\" type=\"checkbox\" checked><label for=\"sk-estimator-id-1\" class=\"sk-toggleable__label sk-toggleable__label-arrow\">KNeighborsRegressor</label><div class=\"sk-toggleable__content\"><pre>KNeighborsRegressor(n_neighbors=2, weights=&#x27;distance&#x27;)</pre></div></div></div></div></div>"
      ],
      "text/plain": [
       "KNeighborsRegressor(n_neighbors=2, weights='distance')"
      ]
     },
     "execution_count": 7,
     "metadata": {},
     "output_type": "execute_result"
    }
   ],
   "source": [
    "from sklearn.neighbors import KNeighborsRegressor\n",
    "\n",
    "regressor= KNeighborsRegressor(n_neighbors = 2, weights = \"distance\")\n",
    "regressor.fit(training_points, training_labels)"
   ]
  },
  {
   "cell_type": "code",
   "execution_count": 8,
   "id": "bca1f496-434c-4495-8e19-f14c6a850b36",
   "metadata": {
    "tags": []
   },
   "outputs": [
    {
     "name": "stdout",
     "output_type": "stream",
     "text": [
      "[7.41053819 8.39018998 6.0205455 ]\n"
     ]
    }
   ],
   "source": [
    "unknown_points = [\n",
    "  [0.2, 0.1, 0.7],\n",
    "  [0.4, 0.7, 0.6],\n",
    "  [0.5, 0.8, 0.1]\n",
    "]\n",
    "print(regressor.predict(unknown_points))"
   ]
  },
  {
   "cell_type": "code",
   "execution_count": null,
   "id": "5a70259b-d9b4-431e-aece-05e4e2632611",
   "metadata": {},
   "outputs": [],
   "source": []
  }
 ],
 "metadata": {
  "kernelspec": {
   "display_name": "Python 3 (ipykernel)",
   "language": "python",
   "name": "python3"
  },
  "language_info": {
   "codemirror_mode": {
    "name": "ipython",
    "version": 3
   },
   "file_extension": ".py",
   "mimetype": "text/x-python",
   "name": "python",
   "nbconvert_exporter": "python",
   "pygments_lexer": "ipython3",
   "version": "3.11.5"
  }
 },
 "nbformat": 4,
 "nbformat_minor": 5
}
