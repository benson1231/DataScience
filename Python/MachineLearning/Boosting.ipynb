{
 "cells": [
  {
   "cell_type": "markdown",
   "id": "588dfb36-c58d-4483-86da-9328fff698b0",
   "metadata": {},
   "source": []
  },
  {
   "cell_type": "code",
   "execution_count": 1,
   "id": "bc9065d6-c0b5-4c82-9994-9253094749ee",
   "metadata": {
    "tags": []
   },
   "outputs": [
    {
     "name": "stdout",
     "output_type": "stream",
     "text": [
      "{'ccp_alpha': 0.0, 'class_weight': None, 'criterion': 'gini', 'max_depth': 1, 'max_features': None, 'max_leaf_nodes': None, 'min_impurity_decrease': 0.0, 'min_samples_leaf': 1, 'min_samples_split': 2, 'min_weight_fraction_leaf': 0.0, 'random_state': None, 'splitter': 'best'}\n",
      "{'algorithm': 'SAMME.R', 'base_estimator__ccp_alpha': 0.0, 'base_estimator__class_weight': None, 'base_estimator__criterion': 'gini', 'base_estimator__max_depth': 1, 'base_estimator__max_features': None, 'base_estimator__max_leaf_nodes': None, 'base_estimator__min_impurity_decrease': 0.0, 'base_estimator__min_samples_leaf': 1, 'base_estimator__min_samples_split': 2, 'base_estimator__min_weight_fraction_leaf': 0.0, 'base_estimator__random_state': None, 'base_estimator__splitter': 'best', 'base_estimator': DecisionTreeClassifier(max_depth=1), 'estimator': None, 'learning_rate': 1.0, 'n_estimators': 5, 'random_state': None}\n",
      "Test set accuracy:\t0.8574181117533719\n",
      "Test set precision:\t0.7247191011235955\n",
      "Test set recall:\t0.8376623376623377\n",
      "Test set f1-score:\t0.7771084337349398\n",
      "Confusion Matrix:\n",
      "            predicted yes  predicted no\n",
      "actual yes            129            25\n",
      "actual no              49           316\n"
     ]
    },
    {
     "name": "stderr",
     "output_type": "stream",
     "text": [
      "/Users/benson/anaconda3/lib/python3.11/site-packages/sklearn/ensemble/_base.py:156: FutureWarning: `base_estimator` was renamed to `estimator` in version 1.2 and will be removed in 1.4.\n",
      "  warnings.warn(\n"
     ]
    }
   ],
   "source": [
    "import pandas as pd\n",
    "import numpy as np\n",
    "from sklearn.model_selection import train_test_split\n",
    "from sklearn.tree import DecisionTreeClassifier\n",
    "from sklearn.ensemble import AdaBoostClassifier\n",
    "from sklearn.metrics import accuracy_score, precision_score, recall_score, f1_score, confusion_matrix\n",
    "\n",
    "# Load dataset to a pandas DataFrame\n",
    "path_to_data = 'https://archive.ics.uci.edu/ml/machine-learning-databases/car/car.data'\n",
    "column_names = ['buying', 'maint', 'doors', 'persons', 'lug_boot', 'safety', 'accep']\n",
    "df = pd.read_csv(path_to_data, names=column_names)\n",
    "\n",
    "target_column = 'accep'\n",
    "raw_feature_columns = [col for col in column_names if col != target_column]\n",
    "\n",
    "# Create dummy variables from the feature columns\n",
    "X = pd.get_dummies(df[raw_feature_columns], drop_first=True)\n",
    "\n",
    "# Convert target column to binary variable; 0 if 'unacc', 1 otherwise\n",
    "df[target_column] = np.where(df[target_column] == 'unacc', 0, 1)\n",
    "y = df[target_column]\n",
    "\n",
    "# Split the full dataset into training and testing sets\n",
    "X_train, X_test, y_train, y_test = train_test_split(X, y, random_state=123, test_size=0.3)\n",
    "\n",
    "\n",
    "# 1. Create a decision stump base model using the Decision Tree Classifier and print its parameters\n",
    "decision_stump = DecisionTreeClassifier(max_depth=1)\n",
    "print(decision_stump.get_params())\n",
    "\n",
    "\n",
    "# 2. Create an Adaptive Boost Classifier and print its parameters\n",
    "ada_classifier = AdaBoostClassifier(base_estimator=decision_stump, n_estimators=5)\n",
    "print(ada_classifier.get_params())\n",
    "\n",
    "# 3. Fit the Adaptive Boost Classifier to the training data and get the list of predictions\n",
    "ada_classifier.fit(X_train, y_train)\n",
    "y_pred = ada_classifier.predict(X_test)\n",
    "\n",
    "# 4. Calculate the accuracy, precision, recall, and f1-score on the testing data\n",
    "accuracy = accuracy_score(y_test, y_pred)\n",
    "precision = precision_score(y_test, y_pred)\n",
    "recall = recall_score(y_test, y_pred)\n",
    "f1 = f1_score(y_test, y_pred)\n",
    "\n",
    "print(f'Test set accuracy:\\t{accuracy}')\n",
    "print(f'Test set precision:\\t{precision}')\n",
    "print(f'Test set recall:\\t{recall}')\n",
    "print(f'Test set f1-score:\\t{f1}')\n",
    "\n",
    "# 5. Remove the comments from the following code block to print the confusion matrix\n",
    "test_conf_matrix = pd.DataFrame(\n",
    "    confusion_matrix(y_test, y_pred, labels=[1, 0]), \n",
    "    index=['actual yes', 'actual no'], \n",
    "    columns=['predicted yes', 'predicted no']\n",
    ")\n",
    "\n",
    "print(f'Confusion Matrix:\\n{test_conf_matrix.to_string()}')\n"
   ]
  },
  {
   "cell_type": "code",
   "execution_count": 2,
   "id": "f29aa214-ec08-42b4-a514-de4943c14f9c",
   "metadata": {
    "tags": []
   },
   "outputs": [
    {
     "name": "stdout",
     "output_type": "stream",
     "text": [
      "{'ccp_alpha': 0.0, 'criterion': 'friedman_mse', 'init': None, 'learning_rate': 0.1, 'loss': 'log_loss', 'max_depth': 3, 'max_features': None, 'max_leaf_nodes': None, 'min_impurity_decrease': 0.0, 'min_samples_leaf': 1, 'min_samples_split': 2, 'min_weight_fraction_leaf': 0.0, 'n_estimators': 15, 'n_iter_no_change': None, 'random_state': None, 'subsample': 1.0, 'tol': 0.0001, 'validation_fraction': 0.1, 'verbose': 0, 'warm_start': False}\n",
      "Test set accuracy:\t0.8978805394990366\n",
      "Test set precision:\t0.7885714285714286\n",
      "Test set recall:\t0.8961038961038961\n",
      "Test set f1-score:\t0.8389057750759877\n",
      "Confusion Matrix:\n",
      "            predicted yes  predicted no\n",
      "actual yes            138            16\n",
      "actual no              37           328\n"
     ]
    }
   ],
   "source": [
    "import pandas as pd\n",
    "import numpy as np\n",
    "from sklearn.model_selection import train_test_split\n",
    "from sklearn.ensemble import GradientBoostingClassifier\n",
    "from sklearn.metrics import accuracy_score, precision_score, recall_score, f1_score, confusion_matrix\n",
    "\n",
    "# Load dataset to a pandas DataFrame\n",
    "path_to_data = 'https://archive.ics.uci.edu/ml/machine-learning-databases/car/car.data'\n",
    "column_names = ['buying', 'maint', 'doors', 'persons', 'lug_boot', 'safety', 'accep']\n",
    "\n",
    "df = pd.read_csv(path_to_data, names=column_names)\n",
    "target_column = 'accep'\n",
    "raw_feature_columns = [col for col in column_names if col != target_column]\n",
    "\n",
    "# Create dummy variables from the feature columns\n",
    "X = pd.get_dummies(df[raw_feature_columns], drop_first=True)\n",
    "\n",
    "# Convert target column to binary variable; 0 if 'unacc', 1 otherwise\n",
    "df[target_column] = np.where(df[target_column] == 'unacc', 0, 1)\n",
    "y = df[target_column]\n",
    "\n",
    "# Split the full dataset into training and testing sets\n",
    "X_train, X_test, y_train, y_test = train_test_split(X, y, random_state=123, test_size=0.3)\n",
    "\n",
    "# 1. Create a Gradient Boosting Classifier and print its parameters\n",
    "grad_classifier = GradientBoostingClassifier(n_estimators=15)\n",
    "\n",
    "print(grad_classifier.get_params())\n",
    "\n",
    "# 2. Fit the Gradient Boosted Trees Classifier to the training data and get the list of predictions\n",
    "grad_classifier.fit(X_train, y_train)\n",
    "y_pred = grad_classifier.predict(X_test)\n",
    "\n",
    "# 3. Calculate the accuracy, precision, recall, and f1-score on the testing data\n",
    "accuracy = accuracy_score(y_test, y_pred)\n",
    "precision = precision_score(y_test, y_pred)\n",
    "recall = recall_score(y_test, y_pred)\n",
    "f1 = f1_score(y_test, y_pred)\n",
    "\n",
    "print(f'Test set accuracy:\\t{accuracy}')\n",
    "print(f'Test set precision:\\t{precision}')\n",
    "print(f'Test set recall:\\t{recall}')\n",
    "print(f'Test set f1-score:\\t{f1}')\n",
    "\n",
    "# 4. Remove the comments from the following code block to print the confusion matrix\n",
    "test_conf_matrix = pd.DataFrame(\n",
    "    confusion_matrix(y_test, y_pred, labels=[1, 0]), \n",
    "    index=['actual yes', 'actual no'], \n",
    "    columns=['predicted yes', 'predicted no']\n",
    ")\n",
    "\n",
    "print(f'Confusion Matrix:\\n{test_conf_matrix.to_string()}')"
   ]
  },
  {
   "cell_type": "code",
   "execution_count": null,
   "id": "e26638ad-00a5-406c-8aab-f5cf64d9ecb2",
   "metadata": {},
   "outputs": [],
   "source": []
  },
  {
   "cell_type": "code",
   "execution_count": null,
   "id": "60d9509f-9b3d-4af3-a4c1-3cf5bc350924",
   "metadata": {},
   "outputs": [],
   "source": []
  },
  {
   "cell_type": "code",
   "execution_count": null,
   "id": "9cef1e58-8f94-4c9d-8316-21433ea9adb3",
   "metadata": {},
   "outputs": [],
   "source": []
  },
  {
   "cell_type": "code",
   "execution_count": null,
   "id": "fd0e04e0-3b83-470b-ba4e-12a704f5abda",
   "metadata": {},
   "outputs": [],
   "source": []
  },
  {
   "cell_type": "code",
   "execution_count": null,
   "id": "ac6dca85-eac0-4fcf-94fd-abcc6bd43b49",
   "metadata": {},
   "outputs": [],
   "source": []
  }
 ],
 "metadata": {
  "kernelspec": {
   "display_name": "Python 3 (ipykernel)",
   "language": "python",
   "name": "python3"
  },
  "language_info": {
   "codemirror_mode": {
    "name": "ipython",
    "version": 3
   },
   "file_extension": ".py",
   "mimetype": "text/x-python",
   "name": "python",
   "nbconvert_exporter": "python",
   "pygments_lexer": "ipython3",
   "version": "3.11.5"
  }
 },
 "nbformat": 4,
 "nbformat_minor": 5
}
