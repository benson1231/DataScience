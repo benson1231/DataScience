{
 "cells": [
  {
   "cell_type": "markdown",
   "id": "64de78b6-9d8a-446f-91bf-2bd5733d1806",
   "metadata": {},
   "source": [
    "# L1 or Lasso Regularization"
   ]
  },
  {
   "cell_type": "code",
   "execution_count": 1,
   "id": "50f846b6-2a04-444f-aecd-2566a2ffbfb1",
   "metadata": {
    "tags": []
   },
   "outputs": [
    {
     "name": "stdout",
     "output_type": "stream",
     "text": [
      "Coefficients: [ 3.09102629 -0.         -0.          0.          0.0983707 ]\n",
      "Intercept: -0.1402639021722819\n"
     ]
    }
   ],
   "source": [
    "from sklearn.linear_model import Lasso\n",
    "import numpy as np\n",
    "\n",
    "# 假設數據集\n",
    "X = np.random.randn(100, 5)  # 100個樣本，5個特徵\n",
    "y = X[:, 0] * 3 + np.random.randn(100)  # 僅第一個特徵有貢獻\n",
    "\n",
    "# Lasso 模型\n",
    "lasso = Lasso(alpha=0.1)\n",
    "lasso.fit(X, y)\n",
    "\n",
    "# 輸出係數\n",
    "print(\"Coefficients:\", lasso.coef_)\n",
    "print(\"Intercept:\", lasso.intercept_)"
   ]
  },
  {
   "cell_type": "markdown",
   "id": "d370db88-a0da-4a18-934f-768df9efa0b7",
   "metadata": {},
   "source": [
    "# L2 or Ridge Regularization"
   ]
  },
  {
   "cell_type": "code",
   "execution_count": 2,
   "id": "f41b8a97-dd56-4271-95ad-3270841290b2",
   "metadata": {
    "tags": []
   },
   "outputs": [
    {
     "name": "stdout",
     "output_type": "stream",
     "text": [
      "Coefficients: [ 2.85045455 -2.01618583  0.01990915  0.02900161 -0.01648921]\n",
      "Intercept: -0.18810211579240965\n"
     ]
    }
   ],
   "source": [
    "from sklearn.linear_model import Ridge\n",
    "import numpy as np\n",
    "\n",
    "# 假設數據集\n",
    "X = np.random.randn(100, 5)  # 100個樣本，5個特徵\n",
    "y = X[:, 0] * 3 + X[:, 1] * -2 + np.random.randn(100)  # 第一和第二特徵有貢獻\n",
    "\n",
    "# Ridge 模型\n",
    "ridge = Ridge(alpha=0.1)  # 調整 alpha 改變正則化強度\n",
    "ridge.fit(X, y)\n",
    "\n",
    "# 輸出係數\n",
    "print(\"Coefficients:\", ridge.coef_)\n",
    "print(\"Intercept:\", ridge.intercept_)\n"
   ]
  },
  {
   "cell_type": "markdown",
   "id": "64f31ce0-c377-41a4-8071-dab67a13b580",
   "metadata": {},
   "source": [
    "# Hyperparameter Tuning\n",
    "Ideally we want a machine learning model to have low bias and low variance\n",
    "bias-variance tradeoff: rying to minimize bias and variance simultaneously is a bit of a conundrum as lowering one raises the other"
   ]
  },
  {
   "cell_type": "markdown",
   "id": "81cb7574-8416-4c3d-94d9-a50ffe4ef50a",
   "metadata": {},
   "source": [
    "# GridSearchCV"
   ]
  },
  {
   "cell_type": "code",
   "execution_count": 8,
   "id": "b10ec114-16b4-4e68-bf45-9effd46ec5ac",
   "metadata": {},
   "outputs": [],
   "source": [
    "from sklearn.datasets import load_breast_cancer\n",
    "from sklearn.model_selection import train_test_split\n",
    "from sklearn.linear_model import LogisticRegression\n",
    "from sklearn.model_selection import GridSearchCV\n",
    "\n",
    "# Load the data set\n",
    "cancer = load_breast_cancer()\n",
    "\n",
    "# Split into training and testing data\n",
    "X_train, X_test, y_train, y_test = train_test_split(cancer.data, cancer.target)"
   ]
  },
  {
   "cell_type": "code",
   "execution_count": 9,
   "id": "4ed82d8f-bd1c-4644-8eee-992961d4d749",
   "metadata": {},
   "outputs": [
    {
     "name": "stdout",
     "output_type": "stream",
     "text": [
      "{'C': 1.0, 'class_weight': None, 'dual': False, 'fit_intercept': True, 'intercept_scaling': 1, 'l1_ratio': None, 'max_iter': 1000, 'multi_class': 'auto', 'n_jobs': None, 'penalty': 'l2', 'random_state': None, 'solver': 'liblinear', 'tol': 0.0001, 'verbose': 0, 'warm_start': False}\n"
     ]
    }
   ],
   "source": [
    "# 1. Intializing model for grid search\n",
    "lr = LogisticRegression(solver='liblinear', max_iter=1000)\n",
    "\n",
    "#check output\n",
    "print(lr.get_params())"
   ]
  },
  {
   "cell_type": "code",
   "execution_count": 10,
   "id": "7c620a16-d58a-441c-99eb-a70bae9c07b8",
   "metadata": {},
   "outputs": [],
   "source": [
    "### 2. Intializing grid search dictionary `parameters` of hyperparameters to search from\n",
    "parameters = {'penalty': ['l1', 'l2'], 'C': [1, 10, 100]}"
   ]
  },
  {
   "cell_type": "code",
   "execution_count": 11,
   "id": "4c943116-375f-4db2-b703-0142faeaaaa1",
   "metadata": {},
   "outputs": [
    {
     "name": "stdout",
     "output_type": "stream",
     "text": [
      "{'cv': None, 'error_score': nan, 'estimator__C': 1.0, 'estimator__class_weight': None, 'estimator__dual': False, 'estimator__fit_intercept': True, 'estimator__intercept_scaling': 1, 'estimator__l1_ratio': None, 'estimator__max_iter': 1000, 'estimator__multi_class': 'auto', 'estimator__n_jobs': None, 'estimator__penalty': 'l2', 'estimator__random_state': None, 'estimator__solver': 'liblinear', 'estimator__tol': 0.0001, 'estimator__verbose': 0, 'estimator__warm_start': False, 'estimator': LogisticRegression(max_iter=1000, solver='liblinear'), 'n_jobs': None, 'param_grid': {'penalty': ['l1', 'l2'], 'C': [1, 10, 100]}, 'pre_dispatch': '2*n_jobs', 'refit': True, 'return_train_score': False, 'scoring': None, 'verbose': 0}\n"
     ]
    }
   ],
   "source": [
    "### 3. Set up grid search using `GridSearchCV`\n",
    "clf = GridSearchCV(lr, parameters)\n",
    "\n",
    "#check output\n",
    "print(clf.get_params())"
   ]
  },
  {
   "cell_type": "code",
   "execution_count": 12,
   "id": "4dd3ad0d-b920-427a-87e8-99347a5be6b3",
   "metadata": {
    "tags": []
   },
   "outputs": [],
   "source": [
    "import pandas as pd\n",
    "from sklearn.datasets import load_breast_cancer\n",
    "from sklearn.model_selection import train_test_split\n",
    "from sklearn.linear_model import LogisticRegression\n",
    "from sklearn.model_selection import GridSearchCV\n",
    "\n",
    "# Load the data set\n",
    "cancer = load_breast_cancer()\n",
    "\n",
    "# Split into training and testing data\n",
    "X_train, X_test, y_train, y_test = train_test_split(cancer.data, cancer.target, random_state = 19)\n",
    "\n",
    "## Intiializaing model and dictionary of hyperparameters\n",
    "lr = LogisticRegression(solver='liblinear', max_iter=1000)\n",
    "parameters = {'penalty': ['l1', 'l2'], 'C': [1, 10, 100]}\n",
    "\n",
    "##Setting up Grid Search\n",
    "clf = GridSearchCV(lr, parameters)"
   ]
  },
  {
   "cell_type": "code",
   "execution_count": 13,
   "id": "2fcfdbc6-a4ed-4e6f-af0f-7e00533c0c75",
   "metadata": {},
   "outputs": [
    {
     "name": "stdout",
     "output_type": "stream",
     "text": [
      "LogisticRegression(C=10, max_iter=1000, penalty='l1', solver='liblinear')\n",
      "{'C': 10, 'penalty': 'l1'}\n"
     ]
    }
   ],
   "source": [
    "# 1.Fit clf to training data and get best hyperparameters\n",
    "clf.fit(X_train, y_train)\n",
    "best_model = clf.best_estimator_\n",
    "print(best_model)\n",
    "print(clf.best_params_)"
   ]
  },
  {
   "cell_type": "code",
   "execution_count": 14,
   "id": "cdb04fe9-b2fe-4874-9dea-48d7519339d9",
   "metadata": {},
   "outputs": [
    {
     "name": "stdout",
     "output_type": "stream",
     "text": [
      "0.9671135430916552\n",
      "0.951048951048951\n"
     ]
    }
   ],
   "source": [
    "# 2. Calculate training and test scores of the best estimator\n",
    "best_score = clf.best_score_\n",
    "test_score = clf.score(X_test, y_test)\n",
    "print(best_score)\n",
    "print(test_score)"
   ]
  },
  {
   "cell_type": "code",
   "execution_count": 15,
   "id": "4b0a7ded-d213-4302-adc6-c3cf7bd3ee94",
   "metadata": {},
   "outputs": [
    {
     "name": "stdout",
     "output_type": "stream",
     "text": [
      "     C penalty     score\n",
      "0    1      l1  0.955349\n",
      "1    1      l2  0.952996\n",
      "2   10      l1  0.967114\n",
      "3   10      l2  0.957702\n",
      "4  100      l1  0.957674\n",
      "5  100      l2  0.962380\n"
     ]
    }
   ],
   "source": [
    "### 3. Viewing grid search Results\n",
    "hyperparameter_grid = pd.DataFrame(clf.cv_results_['params'])\n",
    "grid_scores = pd.DataFrame(clf.cv_results_['mean_test_score'], columns = ['score'])\n",
    "\n",
    "df = pd.concat([hyperparameter_grid, grid_scores], axis = 1)\n",
    "print(df)"
   ]
  },
  {
   "cell_type": "markdown",
   "id": "69572273-0545-4df7-913c-4096d2db530f",
   "metadata": {},
   "source": [
    "# RandomizedSearchCV"
   ]
  },
  {
   "cell_type": "code",
   "execution_count": 17,
   "id": "0d6b89ed-ae6f-4cb9-8756-fb11807669c1",
   "metadata": {
    "tags": []
   },
   "outputs": [],
   "source": [
    "import pandas as pd\n",
    "from sklearn.datasets import load_breast_cancer\n",
    "from sklearn.model_selection import train_test_split\n",
    "from sklearn.linear_model import LogisticRegression\n",
    "from sklearn.model_selection import RandomizedSearchCV\n",
    "from scipy.stats import uniform\n",
    "\n",
    "# Load the data set\n",
    "cancer = load_breast_cancer()\n",
    "\n",
    "# Split the data into training and testing sets\n",
    "X = cancer.data\n",
    "y = cancer.target\n",
    "X_train, X_test, y_train, y_test = train_test_split(X, y)"
   ]
  },
  {
   "cell_type": "code",
   "execution_count": 18,
   "id": "4b03a6d1-8fdb-48dd-a10a-1e7d9f02d4c5",
   "metadata": {
    "tags": []
   },
   "outputs": [],
   "source": [
    "### 1. Create distributions to draw hyperparameters from\n",
    "distributions = {'penalty': ['l1', 'l2'], 'C': uniform(loc=0, scale=100)}"
   ]
  },
  {
   "cell_type": "code",
   "execution_count": 19,
   "id": "92a95382-baef-40a8-9f77-b1be492f97ed",
   "metadata": {
    "tags": []
   },
   "outputs": [
    {
     "name": "stdout",
     "output_type": "stream",
     "text": [
      "[23.41643363 46.51928155 83.10936029 73.89974276 40.33363811 78.645963\n",
      " 34.14036425 23.78965406 84.50423379 94.96169461]\n",
      "[17.68833635 89.74698434 19.02574501 30.49548432 14.3181169   6.55751183\n",
      " 79.5978132  38.8168464  60.05034264 81.67093466]\n"
     ]
    }
   ],
   "source": [
    "### 2. Check distributions\n",
    "first_draw = distributions['C'].rvs(10)\n",
    "\n",
    "second_draw = distributions['C'].rvs(10)\n",
    "print(first_draw)\n",
    "print(second_draw)"
   ]
  },
  {
   "cell_type": "code",
   "execution_count": 20,
   "id": "0d4a3069-5ed3-45f7-bace-5ca12e5a681b",
   "metadata": {
    "tags": []
   },
   "outputs": [],
   "source": [
    "### 3. Define model and initialize random search\n",
    "\n",
    "# The logistic regression model\n",
    "lr = LogisticRegression(solver = 'liblinear', max_iter = 1000)\n",
    "\n",
    "# Create a RandomizedSearchCV model\n",
    "clf = RandomizedSearchCV(lr, distributions, n_iter=8)"
   ]
  },
  {
   "cell_type": "code",
   "execution_count": 21,
   "id": "f75fc29b-461c-4335-a445-72a0e84c7a95",
   "metadata": {
    "tags": []
   },
   "outputs": [],
   "source": [
    "import pandas as pd\n",
    "from sklearn.datasets import load_breast_cancer\n",
    "from sklearn.model_selection import train_test_split\n",
    "from sklearn.linear_model import LogisticRegression\n",
    "from sklearn.model_selection import RandomizedSearchCV\n",
    "from scipy.stats import uniform\n",
    "\n",
    "# Load the data set\n",
    "cancer = load_breast_cancer()\n",
    "\n",
    "# Split the data into training and testing sets\n",
    "X = cancer.data\n",
    "y = cancer.target\n",
    "X_train, X_test, y_train, y_test = train_test_split(X, y)\n",
    "\n",
    "# Create distributions to draw hyperparameters from\n",
    "distributions = {'penalty': ['l1', 'l2'], 'C': uniform(loc=0, scale=100)}\n",
    "\n",
    "# The logistic regression model\n",
    "lr = LogisticRegression(solver = 'liblinear', max_iter = 1000)\n",
    "\n",
    "# Create a RandomizedSearchCV model\n",
    "clf = RandomizedSearchCV(lr, distributions, n_iter=8)"
   ]
  },
  {
   "cell_type": "code",
   "execution_count": 22,
   "id": "98c58a09-1230-4af4-af43-b428fbe034cd",
   "metadata": {
    "tags": []
   },
   "outputs": [
    {
     "name": "stdout",
     "output_type": "stream",
     "text": [
      "LogisticRegression(C=85.99691727724135, max_iter=1000, penalty='l1',\n",
      "                   solver='liblinear')\n",
      "{'C': 85.99691727724135, 'penalty': 'l1'}\n"
     ]
    }
   ],
   "source": [
    "### 1. Fit `clf` to training data and get best hyperparameters\n",
    "\n",
    "clf.fit(X_train, y_train)\n",
    "best_model = clf.best_estimator_\n",
    "print(best_model)\n",
    "print(clf.best_params_)"
   ]
  },
  {
   "cell_type": "code",
   "execution_count": 23,
   "id": "766950c8-1510-42d1-859d-5d21c1ad8b2c",
   "metadata": {
    "tags": []
   },
   "outputs": [
    {
     "name": "stdout",
     "output_type": "stream",
     "text": [
      "0.9647879616963065\n",
      "0.9440559440559441\n"
     ]
    }
   ],
   "source": [
    "### 2. Calculate training and test scores of the best estimator\n",
    "\n",
    "best_score = clf.best_score_\n",
    "test_score = clf.score(X_test, y_test)\n",
    "print(best_score)\n",
    "print(test_score)"
   ]
  },
  {
   "cell_type": "code",
   "execution_count": 24,
   "id": "3716035a-3ae3-4ef7-9639-15be3f1f5191",
   "metadata": {
    "tags": []
   },
   "outputs": [
    {
     "name": "stdout",
     "output_type": "stream",
     "text": [
      "           C penalty     score\n",
      "0  37.786372      l2  0.953105\n",
      "1  85.996917      l1  0.964788\n",
      "2  30.911075      l2  0.953105\n",
      "3  95.748653      l1  0.964788\n",
      "4  30.593308      l2  0.957811\n",
      "5  75.776066      l2  0.955458\n",
      "6  36.211456      l1  0.962462\n",
      "7  94.527480      l1  0.964788\n"
     ]
    }
   ],
   "source": [
    "### 3. Viewing random search Results\n",
    "hyperparameter_values = pd.DataFrame(clf.cv_results_['params'])\n",
    "randomsearch_scores = pd.DataFrame(clf.cv_results_['mean_test_score'], columns = ['score'])\n",
    "\n",
    "df = pd.concat([hyperparameter_values, randomsearch_scores], axis = 1)\n",
    "print(df)"
   ]
  }
 ],
 "metadata": {
  "kernelspec": {
   "display_name": "Python 3 (ipykernel)",
   "language": "python",
   "name": "python3"
  },
  "language_info": {
   "codemirror_mode": {
    "name": "ipython",
    "version": 3
   },
   "file_extension": ".py",
   "mimetype": "text/x-python",
   "name": "python",
   "nbconvert_exporter": "python",
   "pygments_lexer": "ipython3",
   "version": "3.11.5"
  }
 },
 "nbformat": 4,
 "nbformat_minor": 5
}
