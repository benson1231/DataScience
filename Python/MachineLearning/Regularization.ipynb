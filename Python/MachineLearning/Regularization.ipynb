{
 "cells": [
  {
   "cell_type": "markdown",
   "id": "64de78b6-9d8a-446f-91bf-2bd5733d1806",
   "metadata": {},
   "source": [
    "# L1 or Lasso Regularization"
   ]
  },
  {
   "cell_type": "code",
   "execution_count": 1,
   "id": "50f846b6-2a04-444f-aecd-2566a2ffbfb1",
   "metadata": {
    "tags": []
   },
   "outputs": [
    {
     "name": "stdout",
     "output_type": "stream",
     "text": [
      "Coefficients: [ 3.09102629 -0.         -0.          0.          0.0983707 ]\n",
      "Intercept: -0.1402639021722819\n"
     ]
    }
   ],
   "source": [
    "from sklearn.linear_model import Lasso\n",
    "import numpy as np\n",
    "\n",
    "# 假設數據集\n",
    "X = np.random.randn(100, 5)  # 100個樣本，5個特徵\n",
    "y = X[:, 0] * 3 + np.random.randn(100)  # 僅第一個特徵有貢獻\n",
    "\n",
    "# Lasso 模型\n",
    "lasso = Lasso(alpha=0.1)\n",
    "lasso.fit(X, y)\n",
    "\n",
    "# 輸出係數\n",
    "print(\"Coefficients:\", lasso.coef_)\n",
    "print(\"Intercept:\", lasso.intercept_)"
   ]
  },
  {
   "cell_type": "markdown",
   "id": "d370db88-a0da-4a18-934f-768df9efa0b7",
   "metadata": {},
   "source": [
    "# L2 or Ridge Regularization"
   ]
  },
  {
   "cell_type": "code",
   "execution_count": 2,
   "id": "f41b8a97-dd56-4271-95ad-3270841290b2",
   "metadata": {
    "tags": []
   },
   "outputs": [
    {
     "name": "stdout",
     "output_type": "stream",
     "text": [
      "Coefficients: [ 2.85045455 -2.01618583  0.01990915  0.02900161 -0.01648921]\n",
      "Intercept: -0.18810211579240965\n"
     ]
    }
   ],
   "source": [
    "from sklearn.linear_model import Ridge\n",
    "import numpy as np\n",
    "\n",
    "# 假設數據集\n",
    "X = np.random.randn(100, 5)  # 100個樣本，5個特徵\n",
    "y = X[:, 0] * 3 + X[:, 1] * -2 + np.random.randn(100)  # 第一和第二特徵有貢獻\n",
    "\n",
    "# Ridge 模型\n",
    "ridge = Ridge(alpha=0.1)  # 調整 alpha 改變正則化強度\n",
    "ridge.fit(X, y)\n",
    "\n",
    "# 輸出係數\n",
    "print(\"Coefficients:\", ridge.coef_)\n",
    "print(\"Intercept:\", ridge.intercept_)\n"
   ]
  },
  {
   "cell_type": "markdown",
   "id": "64f31ce0-c377-41a4-8071-dab67a13b580",
   "metadata": {},
   "source": [
    "# Hyperparameter Tuning\n",
    "Ideally we want a machine learning model to have low bias and low variance\n",
    "bias-variance tradeoff: rying to minimize bias and variance simultaneously is a bit of a conundrum as lowering one raises the other"
   ]
  },
  {
   "cell_type": "code",
   "execution_count": 4,
   "id": "97d88508-af9b-4cc1-9c2b-76e18cf8474a",
   "metadata": {},
   "outputs": [
    {
     "ename": "NameError",
     "evalue": "name 'X_train' is not defined",
     "output_type": "error",
     "traceback": [
      "\u001b[0;31m---------------------------------------------------------------------------\u001b[0m",
      "\u001b[0;31mNameError\u001b[0m                                 Traceback (most recent call last)",
      "Cell \u001b[0;32mIn[4], line 18\u001b[0m\n\u001b[1;32m     15\u001b[0m grid_search \u001b[38;5;241m=\u001b[39m GridSearchCV(estimator\u001b[38;5;241m=\u001b[39msvm, param_grid\u001b[38;5;241m=\u001b[39mparam_grid, cv\u001b[38;5;241m=\u001b[39m\u001b[38;5;241m5\u001b[39m, scoring\u001b[38;5;241m=\u001b[39m\u001b[38;5;124m'\u001b[39m\u001b[38;5;124maccuracy\u001b[39m\u001b[38;5;124m'\u001b[39m)\n\u001b[1;32m     17\u001b[0m \u001b[38;5;66;03m# Fit the grid search to the data\u001b[39;00m\n\u001b[0;32m---> 18\u001b[0m grid_search\u001b[38;5;241m.\u001b[39mfit(X_train, y_train)\n\u001b[1;32m     20\u001b[0m \u001b[38;5;66;03m# Best parameters found by GridSearchCV\u001b[39;00m\n\u001b[1;32m     21\u001b[0m \u001b[38;5;28mprint\u001b[39m(\u001b[38;5;124m\"\u001b[39m\u001b[38;5;124mBest Parameters:\u001b[39m\u001b[38;5;124m\"\u001b[39m, grid_search\u001b[38;5;241m.\u001b[39mbest_params_)\n",
      "\u001b[0;31mNameError\u001b[0m: name 'X_train' is not defined"
     ]
    }
   ],
   "source": [
    "from sklearn.model_selection import GridSearchCV\n",
    "from sklearn.svm import SVC\n",
    "\n",
    "# Example: Defining an SVM classifier\n",
    "svm = SVC()\n",
    "\n",
    "# Defining the parameter grid\n",
    "param_grid = {\n",
    "    'C': [0.1, 1, 10],\n",
    "    'kernel': ['linear', 'rbf'],\n",
    "    'gamma': ['scale', 'auto']\n",
    "}\n",
    "\n",
    "# Setting up GridSearchCV\n",
    "grid_search = GridSearchCV(estimator=svm, param_grid=param_grid, cv=5, scoring='accuracy')\n",
    "\n",
    "# Fit the grid search to the data\n",
    "grid_search.fit(X_train, y_train)\n",
    "\n",
    "# Best parameters found by GridSearchCV\n",
    "print(\"Best Parameters:\", grid_search.best_params_)\n",
    "\n",
    "# Best score achieved\n",
    "print(\"Best Cross-validation Accuracy:\", grid_search.best_score_)\n",
    "\n",
    "# Best estimator with optimized hyperparameters\n",
    "best_model = grid_search.best_estimator_\n",
    "\n",
    "# Evaluate the model on the test data\n",
    "test_score = best_model.score(X_test, y_test)\n",
    "print(\"Test Accuracy:\", test_score)\n"
   ]
  },
  {
   "cell_type": "code",
   "execution_count": null,
   "id": "b10ec114-16b4-4e68-bf45-9effd46ec5ac",
   "metadata": {},
   "outputs": [],
   "source": []
  },
  {
   "cell_type": "code",
   "execution_count": null,
   "id": "4ed82d8f-bd1c-4644-8eee-992961d4d749",
   "metadata": {},
   "outputs": [],
   "source": []
  },
  {
   "cell_type": "code",
   "execution_count": null,
   "id": "7c620a16-d58a-441c-99eb-a70bae9c07b8",
   "metadata": {},
   "outputs": [],
   "source": []
  },
  {
   "cell_type": "code",
   "execution_count": null,
   "id": "4c943116-375f-4db2-b703-0142faeaaaa1",
   "metadata": {},
   "outputs": [],
   "source": []
  },
  {
   "cell_type": "code",
   "execution_count": null,
   "id": "2fcfdbc6-a4ed-4e6f-af0f-7e00533c0c75",
   "metadata": {},
   "outputs": [],
   "source": []
  },
  {
   "cell_type": "code",
   "execution_count": null,
   "id": "cdb04fe9-b2fe-4874-9dea-48d7519339d9",
   "metadata": {},
   "outputs": [],
   "source": []
  },
  {
   "cell_type": "code",
   "execution_count": null,
   "id": "4b0a7ded-d213-4302-adc6-c3cf7bd3ee94",
   "metadata": {},
   "outputs": [],
   "source": []
  },
  {
   "cell_type": "code",
   "execution_count": null,
   "id": "c72cecea-0860-4b6d-8b6e-d23b33fb9d50",
   "metadata": {},
   "outputs": [],
   "source": []
  }
 ],
 "metadata": {
  "kernelspec": {
   "display_name": "Python 3 (ipykernel)",
   "language": "python",
   "name": "python3"
  },
  "language_info": {
   "codemirror_mode": {
    "name": "ipython",
    "version": 3
   },
   "file_extension": ".py",
   "mimetype": "text/x-python",
   "name": "python",
   "nbconvert_exporter": "python",
   "pygments_lexer": "ipython3",
   "version": "3.11.5"
  }
 },
 "nbformat": 4,
 "nbformat_minor": 5
}
