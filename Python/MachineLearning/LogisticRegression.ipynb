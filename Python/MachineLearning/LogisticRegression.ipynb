{
 "cells": [
  {
   "cell_type": "markdown",
   "id": "373ef4c9-6a40-4fb9-9ac9-f4c4e8ddb972",
   "metadata": {},
   "source": [
    "# Logistic Regression algorithm"
   ]
  },
  {
   "cell_type": "code",
   "execution_count": 1,
   "id": "936d986f-67c0-4f7f-9cd1-645e2c18678a",
   "metadata": {
    "tags": []
   },
   "outputs": [
    {
     "name": "stdout",
     "output_type": "stream",
     "text": [
      "Predicted classes: [1 1 0 1 0 1 0 1 0 0 1 1 1 0 1 0 1 1 1 1 1 0 0 1 1]\n",
      "True classes: [1 1 0 1 0 1 0 1 0 0 1 1 1 0 1 0 1 1 1 1 1 0 0 1 1]\n"
     ]
    }
   ],
   "source": [
    "import pandas as pd\n",
    "from sklearn import datasets\n",
    "from sklearn.preprocessing import StandardScaler\n",
    "from sklearn.model_selection import train_test_split\n",
    "from sklearn.linear_model import LogisticRegression\n",
    "import matplotlib.pyplot as plt\n",
    "from sklearn.metrics import accuracy_score, confusion_matrix\n",
    "import seaborn as sns\n",
    "\n",
    "# 載入 Iris 資料集\n",
    "iris = datasets.load_iris()\n",
    "df = pd.DataFrame(data=iris.data, columns=iris.feature_names)\n",
    "\n",
    "# 設定目標變數 (y) 為兩類 (0 或 1)，這裡只選擇 'setosa' 和 'versicolor'\n",
    "# 這會將 Iris 資料集中的三個類別 (setosa, versicolor, virginica) 中的兩個類別篩選出來\n",
    "df['target'] = iris.target\n",
    "df = df[df['target'] != 2]  # 只保留 'setosa' 和 'versicolor'\n",
    "\n",
    "# 定義 X 和 y\n",
    "X = df[['sepal length (cm)', 'sepal width (cm)']]  # 使用花萼長和花萼寬作為特徵\n",
    "y = df['target']  # 目標變數為 'target'\n",
    "\n",
    "# 將特徵數據標準化\n",
    "scaler = StandardScaler()\n",
    "X_scaled = scaler.fit_transform(X)\n",
    "\n",
    "# 將數據集分割為訓練集和測試集 (75% 訓練集，25% 測試集)\n",
    "X_train, X_test, y_train, y_test = train_test_split(X_scaled, y, test_size=0.25, random_state=27)\n",
    "\n",
    "# 創建並訓練邏輯回歸模型\n",
    "logreg = LogisticRegression()\n",
    "logreg.fit(X_train, y_train)\n",
    "\n",
    "# 預測測試集的結果\n",
    "y_pred = logreg.predict(X_test)\n",
    "\n",
    "# 輸出預測的類別\n",
    "print('Predicted classes:', y_pred)\n",
    "\n",
    "# 輸出測試集的真實類別\n",
    "print('True classes:', y_test.values)"
   ]
  },
  {
   "cell_type": "code",
   "execution_count": 2,
   "id": "8038b312-2947-4b71-b0d4-cb1470e3c6aa",
   "metadata": {
    "tags": []
   },
   "outputs": [
    {
     "name": "stdout",
     "output_type": "stream",
     "text": [
      "[[ 9  0]\n",
      " [ 0 16]]\n"
     ]
    },
    {
     "data": {
      "image/png": "[encoded data removed]",
      "text/plain": [
       "<Figure size 640x480 with 2 Axes>"
      ]
     },
     "metadata": {},
     "output_type": "display_data"
    }
   ],
   "source": [
    "from sklearn.metrics import confusion_matrix\n",
    "\n",
    "# 輸出混淆矩陣\n",
    "cm = confusion_matrix(y_test, y_pred)\n",
    "print(cm)\n",
    "\n",
    "# 顯混淆矩陣\n",
    "cm = confusion_matrix(y_test, y_pred)\n",
    "sns.heatmap(cm, annot=True, fmt=\"d\", cmap=\"Blues\", xticklabels=['Setosa', 'Versicolor'], yticklabels=['Setosa', 'Versicolor'])\n",
    "plt.title('Confusion Matrix')\n",
    "plt.xlabel('Predicted Labels')\n",
    "plt.ylabel('True Labels')\n",
    "plt.show()"
   ]
  },
  {
   "cell_type": "code",
   "execution_count": 5,
   "id": "e6df989f-ff27-4a37-9b06-035d4a82779f",
   "metadata": {
    "tags": []
   },
   "outputs": [
    {
     "name": "stdout",
     "output_type": "stream",
     "text": [
      "1.0\n",
      "1.0\n",
      "1.0\n",
      "1.0\n"
     ]
    }
   ],
   "source": [
    "from sklearn.metrics import accuracy_score, recall_score, precision_score, f1_score\n",
    "\n",
    "# accuracy: 計算預測結果的準確度，即正確分類的比例\n",
    "print(accuracy_score(y_test, y_pred))\n",
    "# 計算準確度，輸出預測正確的樣本比例\n",
    "\n",
    "# precision: 計算精確度，即正確預測為正類的樣本佔所有預測為正類的比例\n",
    "print(precision_score(y_test, y_pred))\n",
    "# 精確度 = TP / (TP + FP)\n",
    "# TP: 真陽性，FP: 假陽性，TP / (TP + FP) 表示模型預測為正類時，實際正類的比例\n",
    "\n",
    "# recall: 計算召回率，即正確預測為正類的樣本佔所有實際正類樣本的比例\n",
    "print(recall_score(y_test, y_pred))\n",
    "# 召回率 = TP / (TP + FN)\n",
    "# TP: 真陽性，FN: 假陰性，TP / (TP + FN) 表示實際正類的樣本中，有多少被模型正確識別為正類\n",
    "\n",
    "# F1 score: 計算精確度和召回率的加權調和平均數，是一個綜合指標\n",
    "print(f1_score(y_test, y_pred))\n",
    "# F1 分數 = 2 * (precision * recall) / (precision + recall)\n",
    "# F1 分數用來平衡精確度和召回率，當精確度和召回率不平衡時，F1 分數可以更好地評價模型的整體表現"
   ]
  },
  {
   "cell_type": "code",
   "execution_count": 4,
   "id": "9f54d0b6-e00c-43a9-b1b2-18c043ce2d15",
   "metadata": {},
   "outputs": [
    {
     "name": "stdout",
     "output_type": "stream",
     "text": [
      "更新日期: 2024年11月30日\n"
     ]
    }
   ],
   "source": [
    "import datetime\n",
    "\n",
    "current_date = datetime.datetime.now().strftime(\"%Y年%m月%d日\")\n",
    "print(f\"更新日期: {current_date}\")"
   ]
  }
 ],
 "metadata": {
  "kernelspec": {
   "display_name": "Python 3 (ipykernel)",
   "language": "python",
   "name": "python3"
  },
  "language_info": {
   "codemirror_mode": {
    "name": "ipython",
    "version": 3
   },
   "file_extension": ".py",
   "mimetype": "text/x-python",
   "name": "python",
   "nbconvert_exporter": "python",
   "pygments_lexer": "ipython3",
   "version": "3.11.5"
  }
 },
 "nbformat": 4,
 "nbformat_minor": 5
}
