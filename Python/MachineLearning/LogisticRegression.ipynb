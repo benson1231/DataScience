{
 "cells": [
  {
   "cell_type": "markdown",
   "id": "373ef4c9-6a40-4fb9-9ac9-f4c4e8ddb972",
   "metadata": {},
   "source": [
    "# Logistic Regression"
   ]
  },
  {
   "cell_type": "code",
   "execution_count": 1,
   "id": "1d92d7aa-afa2-4700-b431-7b67f43ef07a",
   "metadata": {
    "tags": []
   },
   "outputs": [
    {
     "data": {
      "text/html": [
       "<div>\n",
       "<style scoped>\n",
       "    .dataframe tbody tr th:only-of-type {\n",
       "        vertical-align: middle;\n",
       "    }\n",
       "\n",
       "    .dataframe tbody tr th {\n",
       "        vertical-align: top;\n",
       "    }\n",
       "\n",
       "    .dataframe thead th {\n",
       "        text-align: right;\n",
       "    }\n",
       "</style>\n",
       "<table border=\"1\" class=\"dataframe\">\n",
       "  <thead>\n",
       "    <tr style=\"text-align: right;\">\n",
       "      <th></th>\n",
       "      <th>age</th>\n",
       "      <th>income</th>\n",
       "      <th>owns_car</th>\n",
       "      <th>buy_potential</th>\n",
       "    </tr>\n",
       "  </thead>\n",
       "  <tbody>\n",
       "    <tr>\n",
       "      <th>0</th>\n",
       "      <td>56</td>\n",
       "      <td>22695</td>\n",
       "      <td>0</td>\n",
       "      <td>1</td>\n",
       "    </tr>\n",
       "    <tr>\n",
       "      <th>1</th>\n",
       "      <td>46</td>\n",
       "      <td>68190</td>\n",
       "      <td>9</td>\n",
       "      <td>0</td>\n",
       "    </tr>\n",
       "    <tr>\n",
       "      <th>2</th>\n",
       "      <td>32</td>\n",
       "      <td>25258</td>\n",
       "      <td>3</td>\n",
       "      <td>1</td>\n",
       "    </tr>\n",
       "    <tr>\n",
       "      <th>3</th>\n",
       "      <td>60</td>\n",
       "      <td>107538</td>\n",
       "      <td>6</td>\n",
       "      <td>0</td>\n",
       "    </tr>\n",
       "    <tr>\n",
       "      <th>4</th>\n",
       "      <td>25</td>\n",
       "      <td>59504</td>\n",
       "      <td>1</td>\n",
       "      <td>1</td>\n",
       "    </tr>\n",
       "  </tbody>\n",
       "</table>\n",
       "</div>"
      ],
      "text/plain": [
       "   age  income  owns_car  buy_potential\n",
       "0   56   22695         0              1\n",
       "1   46   68190         9              0\n",
       "2   32   25258         3              1\n",
       "3   60  107538         6              0\n",
       "4   25   59504         1              1"
      ]
     },
     "execution_count": 1,
     "metadata": {},
     "output_type": "execute_result"
    }
   ],
   "source": [
    "import pandas as pd\n",
    "import numpy as np\n",
    "\n",
    "# 設定隨機種子\n",
    "np.random.seed(42)\n",
    "\n",
    "# 生成資料\n",
    "data = {\n",
    "    \"age\": np.random.randint(18, 65, size=100),  # 年齡 (連續變量)\n",
    "    \"income\": np.random.randint(20000, 120000, size=100),  # 年收入 (連續變量)\n",
    "    \"owns_car\": np.random.randint(0, 10, size=100),  # 是否擁有車輛 (二元變量)\n",
    "    \"buy_potential\": np.random.choice([0, 1], size=100),  # 目標變數: 是否購買產品 (二元變量)\n",
    "}\n",
    "\n",
    "# 轉換成 DataFrame\n",
    "df = pd.DataFrame(data)\n",
    "df.head()"
   ]
  },
  {
   "cell_type": "code",
   "execution_count": 2,
   "id": "936d986f-67c0-4f7f-9cd1-645e2c18678a",
   "metadata": {
    "tags": []
   },
   "outputs": [
    {
     "name": "stdout",
     "output_type": "stream",
     "text": [
      "predicted classes:  [1 1 0 1 1 1 0 0 0 1 0 1 1 1 1 0 1 0 1 1 1 1 1 0 1]\n",
      "true classes:  89    1\n",
      "68    0\n",
      "43    0\n",
      "50    1\n",
      "40    0\n",
      "95    1\n",
      "27    0\n",
      "85    0\n",
      "22    1\n",
      "44    1\n",
      "64    0\n",
      "94    0\n",
      "97    1\n",
      "6     1\n",
      "65    0\n",
      "30    1\n",
      "69    0\n",
      "82    1\n",
      "67    0\n",
      "55    0\n",
      "90    1\n",
      "47    0\n",
      "18    0\n",
      "93    1\n",
      "87    1\n",
      "Name: buy_potential, dtype: int64\n"
     ]
    }
   ],
   "source": [
    "# Import pandas and the data\n",
    "import pandas as pd\n",
    "\n",
    "# Separate out X and y\n",
    "X = df[['age', 'owns_car']]\n",
    "y = df.buy_potential\n",
    "\n",
    "# Transform X\n",
    "from sklearn.preprocessing import StandardScaler\n",
    "scaler = StandardScaler()\n",
    "scaler.fit(X)\n",
    "X = scaler.transform(X)\n",
    "\n",
    "# Split data into training and testing sets\n",
    "from sklearn.model_selection import train_test_split\n",
    "X_train, X_true, y_train, y_true = train_test_split(X, y, test_size=0.25, random_state = 27)\n",
    "\n",
    "# Create and fit the logistic regression model here:\n",
    "from sklearn.linear_model import LogisticRegression\n",
    "cc_lr = LogisticRegression()\n",
    "cc_lr.fit(X_train,y_train)\n",
    "\n",
    "# Save and print the predicted outcomes\n",
    "y_pred = cc_lr.predict(X_true)\n",
    "print('predicted classes: ', y_pred)\n",
    "\n",
    "# Print out the true outcomes for the test data\n",
    "print('true classes: ', y_true)"
   ]
  },
  {
   "cell_type": "code",
   "execution_count": 3,
   "id": "8038b312-2947-4b71-b0d4-cb1470e3c6aa",
   "metadata": {
    "tags": []
   },
   "outputs": [
    {
     "name": "stdout",
     "output_type": "stream",
     "text": [
      "[[4 9]\n",
      " [4 8]]\n"
     ]
    }
   ],
   "source": [
    "# Print out the confusion matrix here\n",
    "from sklearn.metrics import confusion_matrix\n",
    "print(confusion_matrix(y_true, y_pred))"
   ]
  },
  {
   "cell_type": "code",
   "execution_count": 4,
   "id": "e6df989f-ff27-4a37-9b06-035d4a82779f",
   "metadata": {
    "tags": []
   },
   "outputs": [
    {
     "name": "stdout",
     "output_type": "stream",
     "text": [
      "0.48\n",
      "0.47058823529411764\n",
      "0.6666666666666666\n",
      "0.5517241379310345\n"
     ]
    }
   ],
   "source": [
    "# accuracy:\n",
    "from sklearn.metrics import accuracy_score\n",
    "print(accuracy_score(y_true, y_pred))\n",
    "\n",
    "# precision:\n",
    "from sklearn.metrics import precision_score\n",
    "print(precision_score(y_true, y_pred))\n",
    "\n",
    "# recall: \n",
    "from sklearn.metrics import recall_score\n",
    "print(recall_score(y_true, y_pred))\n",
    "\n",
    "# F1 score\n",
    "from sklearn.metrics import f1_score\n",
    "print(f1_score(y_true, y_pred))"
   ]
  },
  {
   "cell_type": "code",
   "execution_count": null,
   "id": "9f54d0b6-e00c-43a9-b1b2-18c043ce2d15",
   "metadata": {},
   "outputs": [],
   "source": []
  },
  {
   "cell_type": "code",
   "execution_count": null,
   "id": "f397b6b5-b6c7-4798-8f89-bc997a235cb4",
   "metadata": {},
   "outputs": [],
   "source": []
  },
  {
   "cell_type": "code",
   "execution_count": null,
   "id": "65f17d3d-c1c0-42cb-8d8a-9d72ae3eb610",
   "metadata": {},
   "outputs": [],
   "source": []
  },
  {
   "cell_type": "code",
   "execution_count": null,
   "id": "25fa6296-87c6-4885-a6da-07c74a490b4f",
   "metadata": {},
   "outputs": [],
   "source": []
  }
 ],
 "metadata": {
  "kernelspec": {
   "display_name": "Python 3 (ipykernel)",
   "language": "python",
   "name": "python3"
  },
  "language_info": {
   "codemirror_mode": {
    "name": "ipython",
    "version": 3
   },
   "file_extension": ".py",
   "mimetype": "text/x-python",
   "name": "python",
   "nbconvert_exporter": "python",
   "pygments_lexer": "ipython3",
   "version": "3.11.5"
  }
 },
 "nbformat": 4,
 "nbformat_minor": 5
}
