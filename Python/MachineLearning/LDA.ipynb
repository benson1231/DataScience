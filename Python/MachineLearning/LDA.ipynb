{
 "cells": [
  {
   "cell_type": "markdown",
   "id": "bf098efc-c95b-46a8-af92-0f1bb016ab8c",
   "metadata": {},
   "source": [
    "# Linear Discriminant Analysis\n",
    "LDA 和 PCA 之間的一個主要區別是它們有不同的應用。 PCA 使用線性代數技術來尋找使資料集變異數最大化的子空間。這意味著 PCA 基本上找到了最適合線性迴歸問題的子空間。另一方面，LDA 使用線性代數技術來尋找最適合分類問題的子空間。"
   ]
  },
  {
   "cell_type": "code",
   "execution_count": 1,
   "id": "d7650719-3b93-4a47-9b2e-dc374b408ba7",
   "metadata": {
    "tags": []
   },
   "outputs": [
    {
     "name": "stdout",
     "output_type": "stream",
     "text": [
      "Accuracy: 1.0\n"
     ]
    }
   ],
   "source": [
    "from sklearn.discriminant_analysis import LinearDiscriminantAnalysis\n",
    "from sklearn.model_selection import train_test_split\n",
    "from sklearn.datasets import load_iris\n",
    "\n",
    "# Load the iris dataset\n",
    "iris = load_iris()\n",
    "X = iris.data\n",
    "y = iris.target\n",
    "\n",
    "# Split into training and test sets\n",
    "X_train, X_test, y_train, y_test = train_test_split(X, y, test_size=0.3, random_state=42)\n",
    "\n",
    "# Apply LDA\n",
    "lda = LinearDiscriminantAnalysis()\n",
    "lda.fit(X_train, y_train)\n",
    "\n",
    "# Make predictions\n",
    "y_pred = lda.predict(X_test)\n",
    "\n",
    "# Evaluate accuracy\n",
    "accuracy = lda.score(X_test, y_test)\n",
    "print(f\"Accuracy: {accuracy}\")\n"
   ]
  },
  {
   "cell_type": "code",
   "execution_count": null,
   "id": "339901c8-de41-4012-9fa4-53a676b9c1f3",
   "metadata": {},
   "outputs": [],
   "source": []
  },
  {
   "cell_type": "code",
   "execution_count": null,
   "id": "bdfe7ca8-225d-48ca-9c27-749c7ee25fcd",
   "metadata": {},
   "outputs": [],
   "source": []
  }
 ],
 "metadata": {
  "kernelspec": {
   "display_name": "Python 3 (ipykernel)",
   "language": "python",
   "name": "python3"
  },
  "language_info": {
   "codemirror_mode": {
    "name": "ipython",
    "version": 3
   },
   "file_extension": ".py",
   "mimetype": "text/x-python",
   "name": "python",
   "nbconvert_exporter": "python",
   "pygments_lexer": "ipython3",
   "version": "3.11.5"
  }
 },
 "nbformat": 4,
 "nbformat_minor": 5
}
