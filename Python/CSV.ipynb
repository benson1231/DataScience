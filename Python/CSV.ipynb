{
 "cells": [
  {
   "cell_type": "code",
   "execution_count": null,
   "id": "73f10005-e779-482d-bcc0-7bb227922252",
   "metadata": {},
   "outputs": [],
   "source": []
  },
  {
   "cell_type": "code",
   "execution_count": 13,
   "id": "08f751e2-25dc-410c-bf55-ba1e13e599a7",
   "metadata": {
    "tags": []
   },
   "outputs": [
    {
     "name": "stdout",
     "output_type": "stream",
     "text": [
      "(house(age=9, weight=3, height=38, car_number=21, get_PHD=9), house(age=72, weight=73, height=23, car_number=52, get_PHD=18), house(age=41, weight=92, height=49, car_number=84, get_PHD=45), house(age=86, weight=74, height=78, car_number=53, get_PHD=17), house(age=36, weight=13, height=35, car_number=12, get_PHD=93), house(age=37, weight=82, height=80, car_number=65, get_PHD=89), house(age=30, weight=3, height=96, car_number=63, get_PHD=37), house(age=44, weight=5, height=21, car_number=99, get_PHD=84), house(age=51, weight=16, height=52, car_number=54, get_PHD=38), house(age=23, weight=3, height=19, car_number=27, get_PHD=59), house(age=33, weight=84, height=38, car_number=53, get_PHD=94), house(age=12, weight=64, height=85, car_number=33, get_PHD=2), house(age=55, weight=37, height=83, car_number=52, get_PHD=30), house(age=64, weight=11, height=23, car_number=46, get_PHD=35), house(age=30, weight=38, height=38, car_number=90, get_PHD=30), house(age=96, weight=23, height=56, car_number=11, get_PHD=52), house(age=62, weight=36, height=65, car_number=84, get_PHD=51), house(age=33, weight=9, height=14, car_number=48, get_PHD=37), house(age=86, weight=22, height=6, car_number=43, get_PHD=53), house(age=96, weight=42, height=36, car_number=12, get_PHD=46))\n"
     ]
    }
   ],
   "source": [
    "import csv\n",
    "from collections import namedtuple\n",
    "\n",
    "with open('demo/test.csv', newline = '') as csvfile:\n",
    "    reader = csv.reader(csvfile, delimiter=',', quotechar='|')\n",
    "    next(reader)\n",
    "    \n",
    "    house = namedtuple(\"house\", [\"age\", \"weight\", \"height\",\"car_number\", \"get_PHD\"])\n",
    "    h = map(lambda x: house(int(x[0]), int(x[1]), int(x[2]), int(x[3]),int(x[4])), reader)\n",
    "    print(tuple(h))\n",
    "    "
   ]
  },
  {
   "cell_type": "code",
   "execution_count": null,
   "id": "22397a51-032b-4aa2-9185-8e6d11275508",
   "metadata": {},
   "outputs": [],
   "source": []
  },
  {
   "cell_type": "code",
   "execution_count": 21,
   "id": "4d0e4f9a-d466-46c7-9c3f-5c21f448350a",
   "metadata": {
    "tags": []
   },
   "outputs": [
    {
     "name": "stdout",
     "output_type": "stream",
     "text": [
      "(city(name='Tokyo', country='Japan', coordinates=[35.6895, 139.6917], continent='Asia'), city(name='Beijing', country='China', coordinates=[39.9042, 116.4074], continent='Asia'), city(name='Bangkok', country='Thailand', coordinates=[13.7563, 100.5018], continent='Asia'), city(name='Seoul', country='South Korea', coordinates=[37.5665, 126.978], continent='Asia'), city(name='Mumbai', country='India', coordinates=[19.076, 72.8777], continent='Asia'), city(name='Taipei', country='Taiwan', coordinates=[25.033, 121.5654], continent='Asia'))\n"
     ]
    }
   ],
   "source": [
    "import json\n",
    "from collections import namedtuple\n",
    "from functools import reduce\n",
    "\n",
    "city = namedtuple(\"city\", [\"name\", \"country\", \"coordinates\", \"continent\"])\n",
    "\n",
    "with open('demo/cities.json') as json_file:\n",
    "  data = json.load(json_file) \n",
    "\n",
    "cities = map(lambda x: city(x[\"name\"], x[\"country\"], x[\"coordinates\"], x[\"continent\"]), data[\"city\"])\n",
    "\n",
    "asia = tuple(filter(lambda q: q.continent == \"Asia\", cities))\n",
    "\n",
    "print(asia)"
   ]
  },
  {
   "cell_type": "code",
   "execution_count": 22,
   "id": "f484903a-198b-49c6-a729-a125312538ec",
   "metadata": {
    "tags": []
   },
   "outputs": [
    {
     "name": "stdout",
     "output_type": "stream",
     "text": [
      "city(name='Mumbai', country='India', coordinates=[19.076, 72.8777], continent='Asia')\n"
     ]
    }
   ],
   "source": [
    "west = None\n",
    "\n",
    "west = reduce(lambda x, y: x if x.coordinates[1] < y.coordinates[1] else y, asia)\n",
    "\n",
    "print(west)"
   ]
  }
 ],
 "metadata": {
  "kernelspec": {
   "display_name": "Python 3 (ipykernel)",
   "language": "python",
   "name": "python3"
  },
  "language_info": {
   "codemirror_mode": {
    "name": "ipython",
    "version": 3
   },
   "file_extension": ".py",
   "mimetype": "text/x-python",
   "name": "python",
   "nbconvert_exporter": "python",
   "pygments_lexer": "ipython3",
   "version": "3.11.5"
  }
 },
 "nbformat": 4,
 "nbformat_minor": 5
}
