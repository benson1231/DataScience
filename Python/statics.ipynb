{
 "cells": [
  {
   "cell_type": "markdown",
   "id": "a0b98165-829f-4e24-92a6-0497ef84895b",
   "metadata": {},
   "source": [
    "# 統計學簡述\n",
    "\n",
    "統計學是一門利用數據進行收集、整理、分析和解釋的學科，旨在幫助人們從數據中提取有意義的信息。\n",
    "統計學主要分為以下兩大分支：\n",
    "\n",
    "1. **描述統計 (Descriptive Statistics)**:\n",
    "   - 用於總結和描述數據的特徵。\n",
    "   - 包括：\n",
    "     - **集中趨勢測量**：平均數 (Mean)、中位數 (Median)、眾數 (Mode)。\n",
    "     - **離散程度測量**：範圍 (Range)、四分位距 (IQR)、方差 (Variance)、標準差 (Standard Deviation)。\n",
    "     - **圖形表示**：直方圖 (Histogram)、餅圖 (Pie Chart)、箱型圖 (Box Plot) 等。\n",
    "\n",
    "2. **推論統計 (Inferential Statistics)**:\n",
    "   - 用於從樣本數據中推斷總體特徵。\n",
    "   - 包括：\n",
    "     - **點估計與區間估計**：估計總體參數（如平均數）。\n",
    "     - **假設檢定**：t 檢定、卡方檢定、ANOVA。\n",
    "     - **相關性與迴歸分析**：分析變數之間的關係。\n",
    "\n",
    "# 常用方法與應用\n",
    "\n",
    "1. **數據收集**：\n",
    "   - 問卷調查、實驗數據、觀察數據。\n",
    "\n",
    "2. **數據分析**：\n",
    "   - 探索性數據分析 (EDA)：檢查數據的基本結構與分佈。\n",
    "   - 模型建構：利用統計模型解釋數據行為。\n",
    "\n",
    "3. **應用領域**：\n",
    "   - 醫學：臨床試驗、流行病學研究。\n",
    "   - 商業：市場分析、風險評估。\n",
    "   - 社會科學：人口統計、行為研究。\n",
    "\n",
    "# 統計工具\n",
    "- **軟體**：\n",
    "  - Python（pandas, numpy, scipy, matplotlib, seaborn 等）\n",
    "  - R\n",
    "  - SPSS\n",
    "- **方法**：\n",
    "  - 樣本抽樣\n",
    "  - 資料清理\n",
    "  - 統計檢定\n"
   ]
  }
 ],
 "metadata": {
  "kernelspec": {
   "display_name": "Python 3 (ipykernel)",
   "language": "python",
   "name": "python3"
  },
  "language_info": {
   "codemirror_mode": {
    "name": "ipython",
    "version": 3
   },
   "file_extension": ".py",
   "mimetype": "text/x-python",
   "name": "python",
   "nbconvert_exporter": "python",
   "pygments_lexer": "ipython3",
   "version": "3.12.7"
  }
 },
 "nbformat": 4,
 "nbformat_minor": 5
}
