{
 "cells": [
  {
   "cell_type": "code",
   "execution_count": 1,
   "id": "9ece66f0-0e1f-4e1b-8a08-32c20b6331a6",
   "metadata": {
    "tags": []
   },
   "outputs": [],
   "source": [
    "# linear search\n",
    "def linear_search(arr, target):\n",
    "    for i in range(len(arr)):\n",
    "        if arr[i] == target:  # 如果找到目標值\n",
    "            return i  # 返回目標值的索引\n",
    "    return -1  # 如果未找到，返回 -1"
   ]
  },
  {
   "cell_type": "code",
   "execution_count": 2,
   "id": "9f80c0e8-3a09-4750-8559-020ca0d560e6",
   "metadata": {
    "tags": []
   },
   "outputs": [
    {
     "name": "stdout",
     "output_type": "stream",
     "text": [
      "Found 6 at index 3\n"
     ]
    }
   ],
   "source": [
    "# 測試\n",
    "array = [5, 3, 8, 6, 1, 9]\n",
    "target = 6\n",
    "result = linear_search(array, target)\n",
    "if result != -1:\n",
    "    print(f\"Found {target} at index {result}\")\n",
    "else:\n",
    "    print(f\"{target} not found in the array\")"
   ]
  },
  {
   "cell_type": "code",
   "execution_count": 3,
   "id": "4079156d-57c3-4e0b-bf22-61c37c569671",
   "metadata": {
    "tags": []
   },
   "outputs": [],
   "source": [
    "def binary_search(arr, target):\n",
    "    left, right = 0, len(arr) - 1  # 初始化左右邊界\n",
    "\n",
    "    while left <= right:\n",
    "        mid = (left + right) // 2  # 找到中間索引\n",
    "        if arr[mid] == target:  # 如果找到目標值\n",
    "            return mid\n",
    "        elif arr[mid] < target:  # 目標值在右半部分\n",
    "            left = mid + 1\n",
    "        else:  # 目標值在左半部分\n",
    "            right = mid - 1\n",
    "\n",
    "    return -1  # 未找到目標值"
   ]
  },
  {
   "cell_type": "code",
   "execution_count": 4,
   "id": "ab077b75-4451-4731-a298-a744fef9113b",
   "metadata": {
    "tags": []
   },
   "outputs": [
    {
     "name": "stdout",
     "output_type": "stream",
     "text": [
      "Found 7 at index 3\n"
     ]
    }
   ],
   "source": [
    "# 測試\n",
    "array = [1, 3, 5, 7, 9, 11, 13]\n",
    "target = 7\n",
    "result = binary_search(array, target)\n",
    "if result != -1:\n",
    "    print(f\"Found {target} at index {result}\")\n",
    "else:\n",
    "    print(f\"{target} not found in the array\")"
   ]
  }
 ],
 "metadata": {
  "kernelspec": {
   "display_name": "Python 3 (ipykernel)",
   "language": "python",
   "name": "python3"
  },
  "language_info": {
   "codemirror_mode": {
    "name": "ipython",
    "version": 3
   },
   "file_extension": ".py",
   "mimetype": "text/x-python",
   "name": "python",
   "nbconvert_exporter": "python",
   "pygments_lexer": "ipython3",
   "version": "3.11.5"
  }
 },
 "nbformat": 4,
 "nbformat_minor": 5
}
