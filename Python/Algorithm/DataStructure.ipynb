{
 "cells": [
  {
   "cell_type": "markdown",
   "id": "c9e08fe0-12bb-443b-918b-ede74704b9e9",
   "metadata": {},
   "source": [
    "# codecademy-cheatsheet(learn-data-structures-and-algorithms-with-python)\n",
    "https://www.codecademy.com/learn/learn-data-structures-and-algorithms-with-python/modules/nodes/cheatsheet"
   ]
  },
  {
   "cell_type": "code",
   "execution_count": null,
   "id": "0bce8976-3b45-4c4a-8e61-e39330c85ed4",
   "metadata": {},
   "outputs": [],
   "source": []
  },
  {
   "cell_type": "code",
   "execution_count": null,
   "id": "84e9784e-93e4-4cc6-af07-e5390b83f727",
   "metadata": {},
   "outputs": [],
   "source": []
  },
  {
   "cell_type": "code",
   "execution_count": null,
   "id": "15e7ffef-c0a7-43b5-9c23-a1a96b7d95a9",
   "metadata": {},
   "outputs": [],
   "source": []
  },
  {
   "cell_type": "code",
   "execution_count": null,
   "id": "6f2fe104-6a7d-421d-b0ad-c699a2ae8eef",
   "metadata": {},
   "outputs": [],
   "source": []
  },
  {
   "cell_type": "code",
   "execution_count": null,
   "id": "2173a289-d8e5-4e86-9837-c0b0d9d0d964",
   "metadata": {},
   "outputs": [],
   "source": []
  },
  {
   "cell_type": "code",
   "execution_count": null,
   "id": "61b6621c-9800-40f2-838e-47960c6b0248",
   "metadata": {},
   "outputs": [],
   "source": []
  }
 ],
 "metadata": {
  "kernelspec": {
   "display_name": "Python 3 (ipykernel)",
   "language": "python",
   "name": "python3"
  },
  "language_info": {
   "codemirror_mode": {
    "name": "ipython",
    "version": 3
   },
   "file_extension": ".py",
   "mimetype": "text/x-python",
   "name": "python",
   "nbconvert_exporter": "python",
   "pygments_lexer": "ipython3",
   "version": "3.11.5"
  }
 },
 "nbformat": 4,
 "nbformat_minor": 5
}
